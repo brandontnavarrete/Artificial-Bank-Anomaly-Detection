{
 "cells": [
  {
   "cell_type": "markdown",
   "id": "c520d434",
   "metadata": {},
   "source": [
    "# imports"
   ]
  },
  {
   "cell_type": "code",
   "execution_count": 36,
   "id": "9a102464",
   "metadata": {},
   "outputs": [],
   "source": [
    "import pandas as pd\n",
    "import numpy as np\n",
    "import matplotlib.pyplot as plt\n",
    "import seaborn as sns\n",
    "\n",
    "import warnings\n",
    "warnings.filterwarnings(\"ignore\")"
   ]
  },
  {
   "cell_type": "markdown",
   "id": "8f85a750",
   "metadata": {},
   "source": [
    "# data imports"
   ]
  },
  {
   "cell_type": "code",
   "execution_count": 5,
   "id": "934f30d6",
   "metadata": {},
   "outputs": [],
   "source": [
    "# Load the DataFrame from the CSV file\n",
    "df = pd.read_csv('data.csv')"
   ]
  },
  {
   "cell_type": "code",
   "execution_count": 7,
   "id": "9c1809d8",
   "metadata": {},
   "outputs": [
    {
     "data": {
      "text/html": [
       "<div>\n",
       "<style scoped>\n",
       "    .dataframe tbody tr th:only-of-type {\n",
       "        vertical-align: middle;\n",
       "    }\n",
       "\n",
       "    .dataframe tbody tr th {\n",
       "        vertical-align: top;\n",
       "    }\n",
       "\n",
       "    .dataframe thead th {\n",
       "        text-align: right;\n",
       "    }\n",
       "</style>\n",
       "<table border=\"1\" class=\"dataframe\">\n",
       "  <thead>\n",
       "    <tr style=\"text-align: right;\">\n",
       "      <th></th>\n",
       "      <th>Name</th>\n",
       "      <th>ID</th>\n",
       "      <th>amount</th>\n",
       "      <th>Transaction</th>\n",
       "      <th>Access Time</th>\n",
       "      <th>Location</th>\n",
       "    </tr>\n",
       "  </thead>\n",
       "  <tbody>\n",
       "    <tr>\n",
       "      <th>0</th>\n",
       "      <td>Angela Johnson</td>\n",
       "      <td>f7607f66-1ca2-445f-a86c-9bf821cea142</td>\n",
       "      <td>-754</td>\n",
       "      <td>withdraw</td>\n",
       "      <td>2022-12-27 13:12:40.261696</td>\n",
       "      <td>Andretown</td>\n",
       "    </tr>\n",
       "  </tbody>\n",
       "</table>\n",
       "</div>"
      ],
      "text/plain": [
       "             Name                                    ID  amount Transaction  \\\n",
       "0  Angela Johnson  f7607f66-1ca2-445f-a86c-9bf821cea142    -754    withdraw   \n",
       "\n",
       "                  Access Time   Location  \n",
       "0  2022-12-27 13:12:40.261696  Andretown  "
      ]
     },
     "execution_count": 7,
     "metadata": {},
     "output_type": "execute_result"
    }
   ],
   "source": [
    "df.head(1)"
   ]
  },
  {
   "cell_type": "markdown",
   "id": "565ee1fa",
   "metadata": {},
   "source": [
    "# function build"
   ]
  },
  {
   "cell_type": "code",
   "execution_count": 23,
   "id": "260daaa9",
   "metadata": {},
   "outputs": [],
   "source": [
    "def generate_charts(ide):\n",
    "    # Filter the DataFrame for the given ID\n",
    "    df_id = df[df['ID'] == ide]\n",
    "\n",
    "    # Extract the user name\n",
    "    user_name = df_id['Name'].iloc[0]\n",
    "\n",
    "    # Calculate the total deposits and withdrawals\n",
    "    total_deposits = df_id[df_id['Transaction'] == 'deposit']['amount'].sum()\n",
    "    total_withdrawals = df_id[df_id['Transaction'] == 'withdraw']['amount'].sum()\n",
    "\n",
    "    # Prepare the data for the diverging stacked bar chart\n",
    "    categories = ['Deposits', 'Withdrawals']\n",
    "    values = [total_deposits, total_withdrawals]\n",
    "\n",
    "    # Generate the diverging stacked bar chart\n",
    "    plt.figure(figsize=(6, 6))\n",
    "    plt.bar(categories, [max(value, 0) for value in values], color='green')\n",
    "    plt.bar(categories, [min(value, 0) for value in values], color='red')\n",
    "    plt.xlabel('Transaction Type')\n",
    "    plt.ylabel('Amount')\n",
    "    plt.title(f'Total Deposits and Withdrawals - ID: {ide} - User: {user_name}')\n",
    "    plt.legend(['Positive Amount', 'Negative Amount'])\n",
    "    plt.show()\n",
    "\n",
    "    \n",
    "    # Generate the line plot for standing amount\n",
    "    df_id['Standing Amount'] = df_id['amount'].cumsum()\n",
    "    plt.figure(figsize=(10, 6))\n",
    "    plt.plot(df_id['Access Time'], df_id['Standing Amount'])\n",
    "    plt.xlabel('Access Time')\n",
    "    plt.ylabel('Standing Amount')\n",
    "    plt.title(f'Standing Amount Over Time - ID: {ide} - User: {user_name}')\n",
    "    plt.xticks(rotation=45)\n",
    "    plt.show()\n",
    "\n",
    "    # Generate the count plot for transaction types\n",
    "    plt.figure(figsize=(8, 6))\n",
    "    sns.countplot(data=df_id, x='Transaction')\n",
    "    plt.xlabel('Transaction')\n",
    "    plt.ylabel('Count')\n",
    "    plt.title(f'Transaction Type Count - ID: {ide} - User: {user_name}')\n",
    "    plt.show()\n"
   ]
  },
  {
   "cell_type": "markdown",
   "id": "1acd5bad",
   "metadata": {},
   "source": [
    "# Generate Charts"
   ]
  },
  {
   "cell_type": "code",
   "execution_count": 37,
   "id": "dc4c350b",
   "metadata": {},
   "outputs": [],
   "source": [
    "import os\n",
    "\n",
    "# Create a directory to save the charts\n",
    "output_dir = 'chart_outputs'\n",
    "os.makedirs(output_dir, exist_ok=True)\n",
    "\n",
    "def save_charts_to_folder(ide):\n",
    "    # Filter the DataFrame for the given ID\n",
    "    df_id = df[df['ID'] == ide]\n",
    "\n",
    "    # Extract the user name\n",
    "    user_name = df_id['Name'].iloc[0]\n",
    "\n",
    "    # Create a subfolder for the user\n",
    "    user_folder = os.path.join(output_dir, user_name)\n",
    "    os.makedirs(user_folder, exist_ok=True)\n",
    "\n",
    "    # Calculate the total deposits and withdrawals\n",
    "    total_deposits = df_id[df_id['Transaction'] == 'deposit']['amount'].sum()\n",
    "    total_withdrawals = df_id[df_id['Transaction'] == 'withdraw']['amount'].sum()\n",
    "\n",
    "    # Prepare the data for the diverging stacked bar chart\n",
    "    categories = ['Deposits', 'Withdrawals']\n",
    "    values = [total_deposits, total_withdrawals]\n",
    "\n",
    "    # Generate the diverging stacked bar chart\n",
    "    plt.figure(figsize=(6, 6))\n",
    "    plt.bar(categories, [max(value, 0) for value in values], color='green')\n",
    "    plt.bar(categories, [min(value, 0) for value in values], color='red')\n",
    "    plt.xlabel('Transaction Type')\n",
    "    plt.ylabel('Amount')\n",
    "    plt.title(f'Total Deposits and Withdrawals - ID: {ide} - User: {user_name}')\n",
    "\n",
    "    # Save the chart to the user's subfolder with the ID as the filename\n",
    "    chart_filename = os.path.join(user_folder, f'{ide}_chart.png')\n",
    "    plt.savefig(chart_filename)\n",
    "    plt.close()\n",
    "\n",
    "    # Generate the line plot for standing amount\n",
    "    df_id['Standing Amount'] = df_id['amount'].cumsum()\n",
    "    plt.figure(figsize=(10, 6))\n",
    "    plt.plot(df_id['Access Time'], df_id['Standing Amount'])\n",
    "    plt.xlabel('Access Time')\n",
    "    plt.ylabel('Standing Amount')\n",
    "    plt.title(f'Standing Amount Over Time - ID: {ide} - User: {user_name}')\n",
    "    plt.xticks(rotation=45)\n",
    "\n",
    "    # Save the chart to the user's subfolder with the ID as the filename\n",
    "    lineplot_filename = os.path.join(user_folder, f'{ide}_lineplot.png')\n",
    "    plt.savefig(lineplot_filename)\n",
    "    plt.close()\n",
    "\n",
    "    # Generate the count plot for transaction types\n",
    "    plt.figure(figsize=(8, 6))\n",
    "    sns.countplot(data=df_id, x='Transaction')\n",
    "    plt.xlabel('Transaction')\n",
    "    plt.ylabel('Count')\n",
    "    plt.title(f'Transaction Type Count - ID: {ide} - User: {user_name}')\n",
    "\n",
    "    # Save the chart to the user's subfolder with the ID as the filename\n",
    "    countplot_filename = os.path.join(user_folder, f'{ide}_countplot.png')\n",
    "    plt.savefig(countplot_filename)\n",
    "    plt.close()\n",
    "\n",
    "    # Return the filenames of the saved charts\n",
    "    return {\n",
    "        'chart_filename': chart_filename,\n",
    "        'lineplot_filename': lineplot_filename,\n",
    "        'countplot_filename': countplot_filename\n",
    "    }\n"
   ]
  },
  {
   "cell_type": "code",
   "execution_count": 38,
   "id": "760c19f7",
   "metadata": {},
   "outputs": [],
   "source": [
    "# Generate charts for each unique ID in the DataFrame\n",
    "unique_ids = df['ID'].unique()\n",
    "for ide in unique_ids:\n",
    "    save_charts_to_folder(ide)"
   ]
  },
  {
   "cell_type": "code",
   "execution_count": null,
   "id": "aa6332d3",
   "metadata": {},
   "outputs": [],
   "source": []
  }
 ],
 "metadata": {
  "kernelspec": {
   "display_name": "Python 3 (ipykernel)",
   "language": "python",
   "name": "python3"
  },
  "language_info": {
   "codemirror_mode": {
    "name": "ipython",
    "version": 3
   },
   "file_extension": ".py",
   "mimetype": "text/x-python",
   "name": "python",
   "nbconvert_exporter": "python",
   "pygments_lexer": "ipython3",
   "version": "3.9.13"
  }
 },
 "nbformat": 4,
 "nbformat_minor": 5
}
