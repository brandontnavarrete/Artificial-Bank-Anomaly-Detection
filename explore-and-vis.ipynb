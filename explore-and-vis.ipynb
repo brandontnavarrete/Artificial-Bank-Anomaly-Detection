{
 "cells": [
  {
   "cell_type": "code",
   "execution_count": 43,
   "id": "883c0063",
   "metadata": {},
   "outputs": [],
   "source": [
    "import pandas as pd \n",
    "import numpy as np \n",
    "\n",
    "from datetime import timedelta\n",
    "from datetime import datetime"
   ]
  },
  {
   "cell_type": "code",
   "execution_count": 44,
   "id": "ce760c94",
   "metadata": {},
   "outputs": [],
   "source": [
    "df = pd.read_csv('data.csv',index_col= 0)\n"
   ]
  },
  {
   "cell_type": "code",
   "execution_count": 45,
   "id": "22e7c246",
   "metadata": {},
   "outputs": [
    {
     "data": {
      "text/plain": [
       "name           object\n",
       "id             object\n",
       "amount          int64\n",
       "transaction    object\n",
       "access_time    object\n",
       "town           object\n",
       "dtype: object"
      ]
     },
     "execution_count": 45,
     "metadata": {},
     "output_type": "execute_result"
    }
   ],
   "source": [
    "df.dtypes"
   ]
  },
  {
   "cell_type": "code",
   "execution_count": 46,
   "id": "7daf3cb1",
   "metadata": {},
   "outputs": [],
   "source": [
    "# Assuming you have a DataFrame with a column named 'date_column' containing string dates\n",
    "df['access_time'] = pd.to_datetime(df['access_time'])"
   ]
  },
  {
   "cell_type": "markdown",
   "id": "c1670926",
   "metadata": {},
   "source": [
    "# at this point in time, how many customers do we have?"
   ]
  },
  {
   "cell_type": "code",
   "execution_count": 47,
   "id": "736c5c24",
   "metadata": {},
   "outputs": [
    {
     "data": {
      "text/plain": [
       "5904"
      ]
     },
     "execution_count": 47,
     "metadata": {},
     "output_type": "execute_result"
    }
   ],
   "source": [
    "df.drop_duplicates(subset= 'id')['id'].value_counts().sum()"
   ]
  },
  {
   "cell_type": "code",
   "execution_count": 49,
   "id": "3e026188",
   "metadata": {},
   "outputs": [],
   "source": [
    "# we have 5904 unique ids"
   ]
  },
  {
   "cell_type": "markdown",
   "id": "8a357fa3",
   "metadata": {},
   "source": [
    "# out of these, who are the oldest and newest customers\n"
   ]
  },
  {
   "cell_type": "code",
   "execution_count": 50,
   "id": "a712bb09",
   "metadata": {
    "scrolled": true
   },
   "outputs": [],
   "source": [
    "# Order by id 'customer' and access times\n",
    "df = df.sort_values(by = ['access_time','id'], ascending=True)"
   ]
  },
  {
   "cell_type": "code",
   "execution_count": 51,
   "id": "8f7f33df",
   "metadata": {},
   "outputs": [],
   "source": [
    "# list of users"
   ]
  },
  {
   "cell_type": "code",
   "execution_count": 52,
   "id": "108f9e42",
   "metadata": {},
   "outputs": [],
   "source": [
    "users = df.id.unique()"
   ]
  },
  {
   "cell_type": "code",
   "execution_count": 53,
   "id": "5480bfd7",
   "metadata": {},
   "outputs": [],
   "source": [
    "import pandas as pd\n",
    "from datetime import timedelta\n",
    "\n",
    "\n",
    "for user_id in users:\n",
    "    user_info = df[df['id'] == user_id]\n",
    "    \n",
    "    if len(user_info) > 1:\n",
    "        first_access = user_info['access_time'].min()\n",
    "        last_access = user_info['access_time'].max()\n",
    "        days_between = (last_access - first_access).days\n",
    "        df.loc[df['id'] == user_id, 'days_between'] = days_between\n",
    "    else:\n",
    "        df.loc[df['id'] == user_id, 'days_between'] = 0\n",
    "\n",
    "        \n",
    "    \n",
    "    "
   ]
  },
  {
   "cell_type": "code",
   "execution_count": 54,
   "id": "191a58a3",
   "metadata": {
    "scrolled": true
   },
   "outputs": [],
   "source": [
    "# user_info = df[df['id'] == 'a7533b48-ac1c-4aa5-a95c-eb4d70d48260']"
   ]
  },
  {
   "cell_type": "code",
   "execution_count": 12,
   "id": "918e504c",
   "metadata": {},
   "outputs": [],
   "source": [
    "# user_info['access_time'].min()"
   ]
  },
  {
   "cell_type": "code",
   "execution_count": 13,
   "id": "31ef4dd1",
   "metadata": {},
   "outputs": [],
   "source": [
    "# user_info['access_time'].max()"
   ]
  },
  {
   "cell_type": "code",
   "execution_count": 14,
   "id": "fa7e4d23",
   "metadata": {},
   "outputs": [],
   "source": [
    "# first_access = user_info['access_time'].min()\n",
    "# last_access = user_info['access_time'].max()\n",
    "# days_between = (last_access - first_access).days"
   ]
  },
  {
   "cell_type": "code",
   "execution_count": 15,
   "id": "69af2c7b",
   "metadata": {},
   "outputs": [],
   "source": [
    "# df.loc[df['id'] == 'a7533b48-ac1c-4aa5-a95c-eb4d70d48260','Days Between'] = days_between"
   ]
  },
  {
   "cell_type": "markdown",
   "id": "18ca497b",
   "metadata": {},
   "source": [
    "# our longest customers in service"
   ]
  },
  {
   "cell_type": "code",
   "execution_count": 56,
   "id": "c3a00d56",
   "metadata": {},
   "outputs": [
    {
     "data": {
      "text/plain": [
       "57753382-28c2-44da-950a-2106df3dec6e    8\n",
       "6fd2b9ad-fb14-4d32-99e2-a6fd2a198438    8\n",
       "23403926-f31d-4701-b16e-577f7ccb2eea    7\n",
       "b9c53c70-8a78-45a0-9a5d-ed4aa069df2b    7\n",
       "e0301dd8-e19a-4013-a23a-476c5ffc992d    7\n",
       "                                       ..\n",
       "5426858a-8898-47a9-a61b-05ee6204533b    1\n",
       "ba2a8a56-ebf1-475b-a26b-73a4de717033    1\n",
       "ebd0fe4a-6856-40ba-859e-05c16a959b38    1\n",
       "d780b2cf-228d-4b1b-8b7e-23b3a772cc36    1\n",
       "466fde8f-6709-4ced-b5bb-34cb60324294    1\n",
       "Name: id, Length: 5904, dtype: int64"
      ]
     },
     "execution_count": 56,
     "metadata": {},
     "output_type": "execute_result"
    }
   ],
   "source": [
    "df.id.value_counts()"
   ]
  },
  {
   "cell_type": "raw",
   "id": "11e521e8",
   "metadata": {},
   "source": [
    "df.sort_values('days_between',ascending= False)"
   ]
  },
  {
   "cell_type": "code",
   "execution_count": 57,
   "id": "557c1549",
   "metadata": {},
   "outputs": [],
   "source": [
    "current_date = datetime.now()  # Get the current date and time"
   ]
  },
  {
   "cell_type": "code",
   "execution_count": 58,
   "id": "bbac8a44",
   "metadata": {},
   "outputs": [],
   "source": [
    "for user_id in users:\n",
    "    \n",
    "    user_info = df[df['id'] == user_id]  # Filter the DataFrame to retrieve rows for the current user ID\n",
    "    \n",
    "    last_access = user_info['access_time'].max()  # Extract the last access time\n",
    "    recent_activity = current_date - last_access  # Calculate the time duration since the last access\n",
    "    df.loc[df['id'] == user_id, 'recent_activity'] = recent_activity  # Assign the calculated value to the 'Recent Activity' column\n",
    "    "
   ]
  },
  {
   "cell_type": "code",
   "execution_count": 59,
   "id": "0c953e07",
   "metadata": {},
   "outputs": [
    {
     "data": {
      "text/html": [
       "<div>\n",
       "<style scoped>\n",
       "    .dataframe tbody tr th:only-of-type {\n",
       "        vertical-align: middle;\n",
       "    }\n",
       "\n",
       "    .dataframe tbody tr th {\n",
       "        vertical-align: top;\n",
       "    }\n",
       "\n",
       "    .dataframe thead th {\n",
       "        text-align: right;\n",
       "    }\n",
       "</style>\n",
       "<table border=\"1\" class=\"dataframe\">\n",
       "  <thead>\n",
       "    <tr style=\"text-align: right;\">\n",
       "      <th></th>\n",
       "      <th>name</th>\n",
       "      <th>id</th>\n",
       "      <th>amount</th>\n",
       "      <th>transaction</th>\n",
       "      <th>access_time</th>\n",
       "      <th>town</th>\n",
       "      <th>days_between</th>\n",
       "      <th>recent_activity</th>\n",
       "    </tr>\n",
       "  </thead>\n",
       "  <tbody>\n",
       "    <tr>\n",
       "      <th>58</th>\n",
       "      <td>Cindy Johnson</td>\n",
       "      <td>df2e5ad1-e50d-4fb1-be59-376a0c583ecd</td>\n",
       "      <td>353</td>\n",
       "      <td>deposit</td>\n",
       "      <td>2023-05-18 02:01:26.686355</td>\n",
       "      <td>Donnastad</td>\n",
       "      <td>362.0</td>\n",
       "      <td>1 days 20:50:50.872790</td>\n",
       "    </tr>\n",
       "    <tr>\n",
       "      <th>8</th>\n",
       "      <td>Kristen Miller</td>\n",
       "      <td>480dbd90-368e-4d6d-9f4b-fd0226dbe3ab</td>\n",
       "      <td>-1710</td>\n",
       "      <td>withdraw</td>\n",
       "      <td>2022-05-21 18:49:27.502772</td>\n",
       "      <td>Tracishire</td>\n",
       "      <td>362.0</td>\n",
       "      <td>0 days 16:48:51.298300</td>\n",
       "    </tr>\n",
       "    <tr>\n",
       "      <th>87</th>\n",
       "      <td>Cindy Johnson</td>\n",
       "      <td>df2e5ad1-e50d-4fb1-be59-376a0c583ecd</td>\n",
       "      <td>699</td>\n",
       "      <td>deposit</td>\n",
       "      <td>2022-05-20 10:56:26.969527</td>\n",
       "      <td>Lake Marvinmouth</td>\n",
       "      <td>362.0</td>\n",
       "      <td>1 days 20:50:50.872790</td>\n",
       "    </tr>\n",
       "    <tr>\n",
       "      <th>28</th>\n",
       "      <td>Kristen Miller</td>\n",
       "      <td>480dbd90-368e-4d6d-9f4b-fd0226dbe3ab</td>\n",
       "      <td>-994</td>\n",
       "      <td>withdraw</td>\n",
       "      <td>2023-05-19 06:03:26.260845</td>\n",
       "      <td>Port Jonathanton</td>\n",
       "      <td>362.0</td>\n",
       "      <td>0 days 16:48:51.298300</td>\n",
       "    </tr>\n",
       "    <tr>\n",
       "      <th>71</th>\n",
       "      <td>Patrick Green</td>\n",
       "      <td>2c351112-e550-4d3c-abba-b21031498e03</td>\n",
       "      <td>-1681</td>\n",
       "      <td>withdraw</td>\n",
       "      <td>2022-05-21 17:35:26.551644</td>\n",
       "      <td>New David</td>\n",
       "      <td>360.0</td>\n",
       "      <td>2 days 20:53:51.178334</td>\n",
       "    </tr>\n",
       "    <tr>\n",
       "      <th>...</th>\n",
       "      <td>...</td>\n",
       "      <td>...</td>\n",
       "      <td>...</td>\n",
       "      <td>...</td>\n",
       "      <td>...</td>\n",
       "      <td>...</td>\n",
       "      <td>...</td>\n",
       "      <td>...</td>\n",
       "    </tr>\n",
       "    <tr>\n",
       "      <th>92</th>\n",
       "      <td>Eric Garrison</td>\n",
       "      <td>a145e979-b152-44db-881a-69dd00eaf6b8</td>\n",
       "      <td>-1311</td>\n",
       "      <td>withdraw</td>\n",
       "      <td>2022-09-11 04:19:27.502772</td>\n",
       "      <td>Joannaburgh</td>\n",
       "      <td>0.0</td>\n",
       "      <td>250 days 18:32:50.056373</td>\n",
       "    </tr>\n",
       "    <tr>\n",
       "      <th>60</th>\n",
       "      <td>Elizabeth Chavez</td>\n",
       "      <td>3324c30b-5064-4ae1-80a0-1c9b43e62b35</td>\n",
       "      <td>604</td>\n",
       "      <td>deposit</td>\n",
       "      <td>2022-09-11 04:16:26.638782</td>\n",
       "      <td>Ericport</td>\n",
       "      <td>0.0</td>\n",
       "      <td>250 days 18:35:50.920363</td>\n",
       "    </tr>\n",
       "    <tr>\n",
       "      <th>47</th>\n",
       "      <td>Sherri Reilly</td>\n",
       "      <td>5c85e17c-8bdc-4769-94ed-aa40bd2666fc</td>\n",
       "      <td>-731</td>\n",
       "      <td>withdraw</td>\n",
       "      <td>2022-09-11 01:21:27.587395</td>\n",
       "      <td>Rodriguezstad</td>\n",
       "      <td>0.0</td>\n",
       "      <td>250 days 21:30:49.971750</td>\n",
       "    </tr>\n",
       "    <tr>\n",
       "      <th>71</th>\n",
       "      <td>Samuel Sims</td>\n",
       "      <td>b4a35eb4-4ea7-42fa-a142-83ab8935becd</td>\n",
       "      <td>-2578</td>\n",
       "      <td>withdraw</td>\n",
       "      <td>2023-02-02 11:22:26.638782</td>\n",
       "      <td>Port Robert</td>\n",
       "      <td>0.0</td>\n",
       "      <td>106 days 11:29:50.920363</td>\n",
       "    </tr>\n",
       "    <tr>\n",
       "      <th>68</th>\n",
       "      <td>Angela Baker</td>\n",
       "      <td>52cba580-f1bc-4005-84e5-500331f9a5f7</td>\n",
       "      <td>-1217</td>\n",
       "      <td>withdraw</td>\n",
       "      <td>2022-05-18 23:11:26.534868</td>\n",
       "      <td>New Lisaton</td>\n",
       "      <td>0.0</td>\n",
       "      <td>365 days 23:40:51.024277</td>\n",
       "    </tr>\n",
       "  </tbody>\n",
       "</table>\n",
       "<p>10000 rows × 8 columns</p>\n",
       "</div>"
      ],
      "text/plain": [
       "                name                                    id  amount  \\\n",
       "58     Cindy Johnson  df2e5ad1-e50d-4fb1-be59-376a0c583ecd     353   \n",
       "8     Kristen Miller  480dbd90-368e-4d6d-9f4b-fd0226dbe3ab   -1710   \n",
       "87     Cindy Johnson  df2e5ad1-e50d-4fb1-be59-376a0c583ecd     699   \n",
       "28    Kristen Miller  480dbd90-368e-4d6d-9f4b-fd0226dbe3ab    -994   \n",
       "71     Patrick Green  2c351112-e550-4d3c-abba-b21031498e03   -1681   \n",
       "..               ...                                   ...     ...   \n",
       "92     Eric Garrison  a145e979-b152-44db-881a-69dd00eaf6b8   -1311   \n",
       "60  Elizabeth Chavez  3324c30b-5064-4ae1-80a0-1c9b43e62b35     604   \n",
       "47     Sherri Reilly  5c85e17c-8bdc-4769-94ed-aa40bd2666fc    -731   \n",
       "71       Samuel Sims  b4a35eb4-4ea7-42fa-a142-83ab8935becd   -2578   \n",
       "68      Angela Baker  52cba580-f1bc-4005-84e5-500331f9a5f7   -1217   \n",
       "\n",
       "   transaction                access_time              town  days_between  \\\n",
       "58     deposit 2023-05-18 02:01:26.686355         Donnastad         362.0   \n",
       "8     withdraw 2022-05-21 18:49:27.502772        Tracishire         362.0   \n",
       "87     deposit 2022-05-20 10:56:26.969527  Lake Marvinmouth         362.0   \n",
       "28    withdraw 2023-05-19 06:03:26.260845  Port Jonathanton         362.0   \n",
       "71    withdraw 2022-05-21 17:35:26.551644         New David         360.0   \n",
       "..         ...                        ...               ...           ...   \n",
       "92    withdraw 2022-09-11 04:19:27.502772       Joannaburgh           0.0   \n",
       "60     deposit 2022-09-11 04:16:26.638782          Ericport           0.0   \n",
       "47    withdraw 2022-09-11 01:21:27.587395     Rodriguezstad           0.0   \n",
       "71    withdraw 2023-02-02 11:22:26.638782       Port Robert           0.0   \n",
       "68    withdraw 2022-05-18 23:11:26.534868       New Lisaton           0.0   \n",
       "\n",
       "            recent_activity  \n",
       "58   1 days 20:50:50.872790  \n",
       "8    0 days 16:48:51.298300  \n",
       "87   1 days 20:50:50.872790  \n",
       "28   0 days 16:48:51.298300  \n",
       "71   2 days 20:53:51.178334  \n",
       "..                      ...  \n",
       "92 250 days 18:32:50.056373  \n",
       "60 250 days 18:35:50.920363  \n",
       "47 250 days 21:30:49.971750  \n",
       "71 106 days 11:29:50.920363  \n",
       "68 365 days 23:40:51.024277  \n",
       "\n",
       "[10000 rows x 8 columns]"
      ]
     },
     "execution_count": 59,
     "metadata": {},
     "output_type": "execute_result"
    }
   ],
   "source": [
    "df.sort_values('days_between',ascending= False)"
   ]
  },
  {
   "cell_type": "code",
   "execution_count": null,
   "id": "1f6bebd7",
   "metadata": {},
   "outputs": [],
   "source": []
  }
 ],
 "metadata": {
  "kernelspec": {
   "display_name": "Python 3 (ipykernel)",
   "language": "python",
   "name": "python3"
  },
  "language_info": {
   "codemirror_mode": {
    "name": "ipython",
    "version": 3
   },
   "file_extension": ".py",
   "mimetype": "text/x-python",
   "name": "python",
   "nbconvert_exporter": "python",
   "pygments_lexer": "ipython3",
   "version": "3.9.13"
  }
 },
 "nbformat": 4,
 "nbformat_minor": 5
}
